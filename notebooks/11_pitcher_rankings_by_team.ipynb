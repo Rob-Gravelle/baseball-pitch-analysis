{
 "cells": [
  {
   "cell_type": "code",
   "execution_count": 1,
   "id": "629ed75f-6b2f-4900-9310-5305ecd13a8e",
   "metadata": {},
   "outputs": [
    {
     "name": "stdout",
     "output_type": "stream",
     "text": [
      "✅ Saved pitcher and team pitching rankings.\n"
     ]
    }
   ],
   "source": [
    "# 📦 Imports\n",
    "import pandas as pd\n",
    "import glob\n",
    "\n",
    "# 📁 Load raw Statcast data\n",
    "files = sorted(glob.glob(\"../data/raw/statcast_*.csv\"))\n",
    "dfs = [pd.read_csv(file, low_memory=False) for file in files]\n",
    "df_raw = pd.concat(dfs, ignore_index=True)\n",
    "\n",
    "# ✅ Basic cleanup + setup\n",
    "df_raw['season'] = pd.to_datetime(df_raw['game_date']).dt.year\n",
    "df_raw = df_raw.dropna(subset=['pitcher', 'player_name', 'home_team', 'pitch_type', 'release_speed'])\n",
    "df_raw['team'] = df_raw['player_name'].where(df_raw['inning'] == 1, df_raw['home_team'])  # crude fallback\n",
    "\n",
    "# 📁 Load velocity grades\n",
    "grades = pd.read_csv(\"../data/processed/pitcher_velocity_grades.csv\")\n",
    "\n",
    "# 🔗 Merge grades with full raw data\n",
    "df = grades.merge(df_raw[['season', 'pitcher', 'player_name', 'team', 'pitch_type']], \n",
    "                  on=['season', 'pitcher', 'pitch_type'], how='left')\n",
    "\n",
    "# 🎯 Filter to only Grade A pitches\n",
    "df = df[df['velocity_grade'] == 'A'].dropna(subset=['player_name', 'team'])\n",
    "\n",
    "# 📊 Part 1: Pitcher rankings within team\n",
    "pitcher_team_rank = (\n",
    "    df.groupby(['season', 'team', 'pitcher', 'player_name'])\n",
    "    .size()\n",
    "    .reset_index(name='grade_a_count')\n",
    "    .sort_values(['season', 'team', 'grade_a_count'], ascending=[True, True, False])\n",
    ")\n",
    "\n",
    "# 📊 Part 2: Total Grade A count per team (staff strength)\n",
    "team_staff_rank = (\n",
    "    pitcher_team_rank.groupby(['season', 'team'])['grade_a_count']\n",
    "    .sum()\n",
    "    .reset_index(name='team_total_grade_a')\n",
    "    .sort_values(['season', 'team_total_grade_a'], ascending=[True, False])\n",
    ")\n",
    "\n",
    "# 💾 Save both\n",
    "pitcher_team_rank.to_csv(\"../data/processed/pitcher_rankings_by_team.csv\", index=False)\n",
    "team_staff_rank.to_csv(\"../data/processed/team_staff_strength.csv\", index=False)\n",
    "\n",
    "print(\"✅ Saved pitcher and team pitching rankings.\")\n"
   ]
  },
  {
   "cell_type": "code",
   "execution_count": null,
   "id": "6c78881e-d636-45ca-9c81-2fb2fc48dc03",
   "metadata": {},
   "outputs": [],
   "source": []
  }
 ],
 "metadata": {
  "kernelspec": {
   "display_name": "Python 3 (ipykernel)",
   "language": "python",
   "name": "python3"
  },
  "language_info": {
   "codemirror_mode": {
    "name": "ipython",
    "version": 3
   },
   "file_extension": ".py",
   "mimetype": "text/x-python",
   "name": "python",
   "nbconvert_exporter": "python",
   "pygments_lexer": "ipython3",
   "version": "3.10.17"
  }
 },
 "nbformat": 4,
 "nbformat_minor": 5
}
